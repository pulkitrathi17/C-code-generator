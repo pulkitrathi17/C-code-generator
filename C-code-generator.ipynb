{
 "cells": [
  {
   "cell_type": "code",
   "execution_count": 1,
   "metadata": {
    "colab": {
     "autoexec": {
      "startup": false,
      "wait_interval": 0
     }
    },
    "colab_type": "code",
    "id": "sYYXCusBWIce"
   },
   "outputs": [],
   "source": [
    "import tensorflow as tf\n",
    "import numpy as np\n",
    "from tqdm import tqdm\n",
    "import os\n",
    "import matplotlib.pyplot as plt\n",
    "%matplotlib inline"
   ]
  },
  {
   "cell_type": "code",
   "execution_count": 2,
   "metadata": {
    "colab": {
     "autoexec": {
      "startup": false,
      "wait_interval": 0
     }
    },
    "colab_type": "code",
    "id": "v866-5GFWRfh"
   },
   "outputs": [],
   "source": [
    "# Combine all the code to form a single string\n",
    "text = \"\"\n",
    "for fname in os.listdir(\"C-code\"):\n",
    "    with open(os.path.join(\"C-code\", fname), \"r\") as f:\n",
    "        text += f.read() + \"\\n\"\n",
    "\n",
    "# Determine character level vocabulary with id mapping\n",
    "vocab = set(text)\n",
    "vocab_to_int = dict()\n",
    "int_to_vocab = dict()\n",
    "for i, c in enumerate(vocab):\n",
    "    vocab_to_int[c] = i\n",
    "    int_to_vocab[i] = c\n",
    "\n",
    "# Replace each character in the text with its id\n",
    "enc_text = [vocab_to_int[c] for c in text]"
   ]
  },
  {
   "cell_type": "code",
   "execution_count": 3,
   "metadata": {
    "colab": {
     "autoexec": {
      "startup": false,
      "wait_interval": 0
     }
    },
    "colab_type": "code",
    "id": "_l7zqSQ0aY-O"
   },
   "outputs": [],
   "source": [
    "# Compute sliding window of 100 characters for input and output sequences\n",
    "seq_length = 100\n",
    "sequences = []\n",
    "out_sequences = []\n",
    "for i in range(0, len(enc_text), seq_length):\n",
    "    sequences += [enc_text[i: i+seq_length]]\n",
    "    out_sequences += [enc_text[i+1: i+seq_length+1]]\n",
    "\n",
    "sequences = np.array(sequences[:-1], np.int32)\n",
    "out_sequences = np.array(out_sequences[:-1], np.int32)\n"
   ]
  },
  {
   "cell_type": "code",
   "execution_count": 4,
   "metadata": {
    "colab": {
     "autoexec": {
      "startup": false,
      "wait_interval": 0
     }
    },
    "colab_type": "code",
    "id": "naJjQLdCXSme"
   },
   "outputs": [],
   "source": [
    "tf.reset_default_graph()\n",
    "inputs = tf.placeholder(tf.int32, [None, seq_length])\n",
    "targets = tf.placeholder(tf.int32, [None, seq_length])"
   ]
  },
  {
   "cell_type": "code",
   "execution_count": 5,
   "metadata": {
    "colab": {
     "autoexec": {
      "startup": false,
      "wait_interval": 0
     }
    },
    "colab_type": "code",
    "id": "o52qlkmOX8iQ"
   },
   "outputs": [],
   "source": [
    "# Two LSTM layers of 512 units each with 50% dropout\n",
    "drop = 0.5\n",
    "lstm1 = tf.contrib.rnn.BasicLSTMCell(512)\n",
    "layer1 = tf.contrib.rnn.DropoutWrapper(lstm1, output_keep_prob=drop)\n",
    "\n",
    "lstm2 = tf.contrib.rnn.BasicLSTMCell(512)\n",
    "layer2 = tf.contrib.rnn.DropoutWrapper(lstm2, output_keep_prob=drop)"
   ]
  },
  {
   "cell_type": "code",
   "execution_count": 6,
   "metadata": {
    "colab": {
     "autoexec": {
      "startup": false,
      "wait_interval": 0
     }
    },
    "colab_type": "code",
    "id": "LFXnooiyYa1E"
   },
   "outputs": [],
   "source": [
    "cell = tf.contrib.rnn.MultiRNNCell([layer1])\n",
    "\n",
    "# Set initial hidden state to the zero state\n",
    "initial_state = cell.zero_state(200, tf.float32) # batch_size = 200\n",
    "\n",
    "# Convert the char ids in the input into one hot vectors\n",
    "x_one_hot = tf.one_hot(inputs, len(vocab))\n",
    "\n",
    "out, out_state = tf.nn.dynamic_rnn(cell, x_one_hot, initial_state=initial_state)"
   ]
  },
  {
   "cell_type": "code",
   "execution_count": 7,
   "metadata": {
    "colab": {
     "autoexec": {
      "startup": false,
      "wait_interval": 0
     }
    },
    "colab_type": "code",
    "id": "OI4mk_3qY7pp"
   },
   "outputs": [],
   "source": [
    "out_flat = tf.reshape(out, [-1, 512])\n",
    "\n",
    "# Add a final dense layer\n",
    "w = tf.Variable(tf.truncated_normal(shape=(512, len(vocab)), stddev=0.1))\n",
    "b = tf.Variable(tf.zeros(len(vocab)))\n",
    "\n",
    "logits = tf.add(tf.matmul(out_flat , w), b)\n",
    "prob = tf.nn.softmax(logits)"
   ]
  },
  {
   "cell_type": "code",
   "execution_count": 8,
   "metadata": {
    "colab": {
     "autoexec": {
      "startup": false,
      "wait_interval": 0
     }
    },
    "colab_type": "code",
    "id": "kgosPJ7VZ7NU"
   },
   "outputs": [
    {
     "name": "stdout",
     "output_type": "stream",
     "text": [
      "WARNING:tensorflow:From <ipython-input-8-dc7f08fe7a53>:4: softmax_cross_entropy_with_logits (from tensorflow.python.ops.nn_ops) is deprecated and will be removed in a future version.\n",
      "Instructions for updating:\n",
      "\n",
      "Future major versions of TensorFlow will allow gradients to flow\n",
      "into the labels input on backprop by default.\n",
      "\n",
      "See @{tf.nn.softmax_cross_entropy_with_logits_v2}.\n",
      "\n"
     ]
    }
   ],
   "source": [
    "y_one_hot = tf.one_hot(targets, len(vocab))\n",
    "y_reshaped = tf.reshape(y_one_hot, logits.get_shape())\n",
    "\n",
    "loss = tf.nn.softmax_cross_entropy_with_logits(logits=logits, labels=y_reshaped)\n",
    "loss = tf.reduce_mean(loss)"
   ]
  },
  {
   "cell_type": "code",
   "execution_count": 9,
   "metadata": {
    "colab": {
     "autoexec": {
      "startup": false,
      "wait_interval": 0
     }
    },
    "colab_type": "code",
    "id": "dV4xHdqOaOEJ"
   },
   "outputs": [],
   "source": [
    "adam = tf.train.AdamOptimizer(0.0005)\n",
    "train_step = adam.minimize(loss)"
   ]
  },
  {
   "cell_type": "code",
   "execution_count": 10,
   "metadata": {
    "colab": {
     "autoexec": {
      "startup": false,
      "wait_interval": 0
     },
     "base_uri": "https://localhost:8080/",
     "height": 2717
    },
    "colab_type": "code",
    "executionInfo": {
     "elapsed": 727930,
     "status": "ok",
     "timestamp": 1527605665590,
     "user": {
      "displayName": "Kushal Chauhan",
      "photoUrl": "//lh4.googleusercontent.com/-EhzMPZb6gTQ/AAAAAAAAAAI/AAAAAAAAHDk/-DzBUyWbk-E/s50-c-k-no/photo.jpg",
      "userId": "100716662372658252072"
     },
     "user_tz": -330
    },
    "id": "ExnaupPedO9H",
    "outputId": "75b566ef-bfe2-4f7d-dba6-414552fe26c2",
    "scrolled": true
   },
   "outputs": [
    {
     "name": "stdout",
     "output_type": "stream",
     "text": [
      "Epoch - 1\n"
     ]
    },
    {
     "name": "stderr",
     "output_type": "stream",
     "text": [
      "100%|██████████| 61/61 [00:48<00:00,  1.25it/s]"
     ]
    },
    {
     "name": "stdout",
     "output_type": "stream",
     "text": [
      "\n",
      "Loss:  3.7624867\n",
      "Epoch - 2\n"
     ]
    },
    {
     "name": "stderr",
     "output_type": "stream",
     "text": [
      "\n",
      "100%|██████████| 61/61 [00:48<00:00,  1.28it/s]"
     ]
    },
    {
     "name": "stdout",
     "output_type": "stream",
     "text": [
      "\n",
      "Loss:  3.54785\n",
      "Epoch - 3\n"
     ]
    },
    {
     "name": "stderr",
     "output_type": "stream",
     "text": [
      "\n",
      "100%|██████████| 61/61 [00:48<00:00,  1.23it/s]"
     ]
    },
    {
     "name": "stdout",
     "output_type": "stream",
     "text": [
      "\n",
      "Loss:  3.2957149\n",
      "Epoch - 4\n"
     ]
    },
    {
     "name": "stderr",
     "output_type": "stream",
     "text": [
      "\n",
      "100%|██████████| 61/61 [00:48<00:00,  1.27it/s]"
     ]
    },
    {
     "name": "stdout",
     "output_type": "stream",
     "text": [
      "\n",
      "Loss:  3.0959308\n",
      "Epoch - 5\n"
     ]
    },
    {
     "name": "stderr",
     "output_type": "stream",
     "text": [
      "\n",
      "100%|██████████| 61/61 [00:48<00:00,  1.28it/s]"
     ]
    },
    {
     "name": "stdout",
     "output_type": "stream",
     "text": [
      "\n",
      "Loss:  2.9045477\n",
      "Epoch - 6\n"
     ]
    },
    {
     "name": "stderr",
     "output_type": "stream",
     "text": [
      "\n",
      "100%|██████████| 61/61 [00:49<00:00,  1.27it/s]"
     ]
    },
    {
     "name": "stdout",
     "output_type": "stream",
     "text": [
      "\n",
      "Loss:  2.7815008\n",
      "Epoch - 7\n"
     ]
    },
    {
     "name": "stderr",
     "output_type": "stream",
     "text": [
      "\n",
      "100%|██████████| 61/61 [00:50<00:00,  1.26it/s]"
     ]
    },
    {
     "name": "stdout",
     "output_type": "stream",
     "text": [
      "\n",
      "Loss:  2.6966445\n",
      "Epoch - 8\n"
     ]
    },
    {
     "name": "stderr",
     "output_type": "stream",
     "text": [
      "\n",
      "100%|██████████| 61/61 [00:49<00:00,  1.24it/s]"
     ]
    },
    {
     "name": "stdout",
     "output_type": "stream",
     "text": [
      "\n",
      "Loss:  2.6252282\n",
      "Epoch - 9\n"
     ]
    },
    {
     "name": "stderr",
     "output_type": "stream",
     "text": [
      "\n",
      "100%|██████████| 61/61 [00:49<00:00,  1.19it/s]"
     ]
    },
    {
     "name": "stdout",
     "output_type": "stream",
     "text": [
      "\n",
      "Loss:  2.5640986\n",
      "Epoch - 10\n"
     ]
    },
    {
     "name": "stderr",
     "output_type": "stream",
     "text": [
      "\n",
      "100%|██████████| 61/61 [00:49<00:00,  1.25it/s]"
     ]
    },
    {
     "name": "stdout",
     "output_type": "stream",
     "text": [
      "\n",
      "Loss:  2.520622\n",
      "Epoch - 11\n"
     ]
    },
    {
     "name": "stderr",
     "output_type": "stream",
     "text": [
      "\n",
      "100%|██████████| 61/61 [00:49<00:00,  1.25it/s]"
     ]
    },
    {
     "name": "stdout",
     "output_type": "stream",
     "text": [
      "\n",
      "Loss:  2.4730308\n",
      "Epoch - 12\n"
     ]
    },
    {
     "name": "stderr",
     "output_type": "stream",
     "text": [
      "\n",
      "100%|██████████| 61/61 [00:47<00:00,  1.28it/s]"
     ]
    },
    {
     "name": "stdout",
     "output_type": "stream",
     "text": [
      "\n",
      "Loss:  2.4303005\n",
      "Epoch - 13\n"
     ]
    },
    {
     "name": "stderr",
     "output_type": "stream",
     "text": [
      "\n",
      "100%|██████████| 61/61 [00:47<00:00,  1.27it/s]"
     ]
    },
    {
     "name": "stdout",
     "output_type": "stream",
     "text": [
      "\n",
      "Loss:  2.3986132\n",
      "Epoch - 14\n"
     ]
    },
    {
     "name": "stderr",
     "output_type": "stream",
     "text": [
      "\n",
      "100%|██████████| 61/61 [00:47<00:00,  1.24it/s]"
     ]
    },
    {
     "name": "stdout",
     "output_type": "stream",
     "text": [
      "\n",
      "Loss:  2.3693647\n",
      "Epoch - 15\n"
     ]
    },
    {
     "name": "stderr",
     "output_type": "stream",
     "text": [
      "\n",
      "100%|██████████| 61/61 [00:52<00:00,  1.20it/s]"
     ]
    },
    {
     "name": "stdout",
     "output_type": "stream",
     "text": [
      "\n",
      "Loss:  2.3269148\n",
      "Epoch - 16\n"
     ]
    },
    {
     "name": "stderr",
     "output_type": "stream",
     "text": [
      "\n",
      "100%|██████████| 61/61 [00:49<00:00,  1.25it/s]"
     ]
    },
    {
     "name": "stdout",
     "output_type": "stream",
     "text": [
      "\n",
      "Loss:  2.2993886\n",
      "Epoch - 17\n"
     ]
    },
    {
     "name": "stderr",
     "output_type": "stream",
     "text": [
      "\n",
      "100%|██████████| 61/61 [00:48<00:00,  1.27it/s]"
     ]
    },
    {
     "name": "stdout",
     "output_type": "stream",
     "text": [
      "\n",
      "Loss:  2.2732627\n",
      "Epoch - 18\n"
     ]
    },
    {
     "name": "stderr",
     "output_type": "stream",
     "text": [
      "\n",
      "100%|██████████| 61/61 [00:50<00:00,  1.08it/s]"
     ]
    },
    {
     "name": "stdout",
     "output_type": "stream",
     "text": [
      "\n",
      "Loss:  2.2437642\n",
      "Epoch - 19\n"
     ]
    },
    {
     "name": "stderr",
     "output_type": "stream",
     "text": [
      "\n",
      "100%|██████████| 61/61 [00:49<00:00,  1.27it/s]"
     ]
    },
    {
     "name": "stdout",
     "output_type": "stream",
     "text": [
      "\n",
      "Loss:  2.212854\n",
      "Epoch - 20\n"
     ]
    },
    {
     "name": "stderr",
     "output_type": "stream",
     "text": [
      "\n",
      "100%|██████████| 61/61 [00:49<00:00,  1.23it/s]"
     ]
    },
    {
     "name": "stdout",
     "output_type": "stream",
     "text": [
      "\n",
      "Loss:  2.1903868\n",
      "Epoch - 21\n"
     ]
    },
    {
     "name": "stderr",
     "output_type": "stream",
     "text": [
      "\n",
      "100%|██████████| 61/61 [00:50<00:00,  1.25it/s]"
     ]
    },
    {
     "name": "stdout",
     "output_type": "stream",
     "text": [
      "\n",
      "Loss:  2.172591\n",
      "Epoch - 22\n"
     ]
    },
    {
     "name": "stderr",
     "output_type": "stream",
     "text": [
      "\n",
      "100%|██████████| 61/61 [00:54<00:00,  1.10it/s]"
     ]
    },
    {
     "name": "stdout",
     "output_type": "stream",
     "text": [
      "\n",
      "Loss:  2.1541538\n",
      "Epoch - 23\n"
     ]
    },
    {
     "name": "stderr",
     "output_type": "stream",
     "text": [
      "\n",
      "100%|██████████| 61/61 [00:50<00:00,  1.30it/s]"
     ]
    },
    {
     "name": "stdout",
     "output_type": "stream",
     "text": [
      "\n",
      "Loss:  2.1276324\n",
      "Epoch - 24\n"
     ]
    },
    {
     "name": "stderr",
     "output_type": "stream",
     "text": [
      "\n",
      "100%|██████████| 61/61 [00:47<00:00,  1.24it/s]"
     ]
    },
    {
     "name": "stdout",
     "output_type": "stream",
     "text": [
      "\n",
      "Loss:  2.1033578\n",
      "Epoch - 25\n"
     ]
    },
    {
     "name": "stderr",
     "output_type": "stream",
     "text": [
      "\n",
      "100%|██████████| 61/61 [00:50<00:00,  1.25it/s]"
     ]
    },
    {
     "name": "stdout",
     "output_type": "stream",
     "text": [
      "\n",
      "Loss:  2.084538\n",
      "Epoch - 26\n"
     ]
    },
    {
     "name": "stderr",
     "output_type": "stream",
     "text": [
      "\n",
      "100%|██████████| 61/61 [00:49<00:00,  1.27it/s]"
     ]
    },
    {
     "name": "stdout",
     "output_type": "stream",
     "text": [
      "\n",
      "Loss:  2.0671391\n",
      "Epoch - 27\n"
     ]
    },
    {
     "name": "stderr",
     "output_type": "stream",
     "text": [
      "\n",
      "100%|██████████| 61/61 [00:49<00:00,  1.21it/s]"
     ]
    },
    {
     "name": "stdout",
     "output_type": "stream",
     "text": [
      "\n",
      "Loss:  2.050407\n",
      "Epoch - 28\n"
     ]
    },
    {
     "name": "stderr",
     "output_type": "stream",
     "text": [
      "\n",
      "100%|██████████| 61/61 [00:49<00:00,  1.27it/s]"
     ]
    },
    {
     "name": "stdout",
     "output_type": "stream",
     "text": [
      "\n",
      "Loss:  2.0369914\n",
      "Epoch - 29\n"
     ]
    },
    {
     "name": "stderr",
     "output_type": "stream",
     "text": [
      "\n",
      "100%|██████████| 61/61 [00:47<00:00,  1.30it/s]"
     ]
    },
    {
     "name": "stdout",
     "output_type": "stream",
     "text": [
      "\n",
      "Loss:  2.0232425\n",
      "Epoch - 30\n"
     ]
    },
    {
     "name": "stderr",
     "output_type": "stream",
     "text": [
      "\n",
      "100%|██████████| 61/61 [00:47<00:00,  1.25it/s]"
     ]
    },
    {
     "name": "stdout",
     "output_type": "stream",
     "text": [
      "\n",
      "Loss:  2.003684\n",
      "Epoch - 31\n"
     ]
    },
    {
     "name": "stderr",
     "output_type": "stream",
     "text": [
      "\n",
      "100%|██████████| 61/61 [00:53<00:00,  1.28it/s]"
     ]
    },
    {
     "name": "stdout",
     "output_type": "stream",
     "text": [
      "\n",
      "Loss:  1.9810125\n",
      "Epoch - 32\n"
     ]
    },
    {
     "name": "stderr",
     "output_type": "stream",
     "text": [
      "\n",
      "100%|██████████| 61/61 [00:48<00:00,  1.25it/s]"
     ]
    },
    {
     "name": "stdout",
     "output_type": "stream",
     "text": [
      "\n",
      "Loss:  1.959231\n",
      "Epoch - 33\n"
     ]
    },
    {
     "name": "stderr",
     "output_type": "stream",
     "text": [
      "\n",
      "100%|██████████| 61/61 [00:48<00:00,  1.15it/s]"
     ]
    },
    {
     "name": "stdout",
     "output_type": "stream",
     "text": [
      "\n",
      "Loss:  1.9495697\n",
      "Epoch - 34\n"
     ]
    },
    {
     "name": "stderr",
     "output_type": "stream",
     "text": [
      "\n",
      "100%|██████████| 61/61 [00:48<00:00,  1.29it/s]"
     ]
    },
    {
     "name": "stdout",
     "output_type": "stream",
     "text": [
      "\n",
      "Loss:  1.930386\n",
      "Epoch - 35\n"
     ]
    },
    {
     "name": "stderr",
     "output_type": "stream",
     "text": [
      "\n",
      "100%|██████████| 61/61 [00:47<00:00,  1.27it/s]"
     ]
    },
    {
     "name": "stdout",
     "output_type": "stream",
     "text": [
      "\n",
      "Loss:  1.9103676\n",
      "Epoch - 36\n"
     ]
    },
    {
     "name": "stderr",
     "output_type": "stream",
     "text": [
      "\n",
      "100%|██████████| 61/61 [00:49<00:00,  1.26it/s]"
     ]
    },
    {
     "name": "stdout",
     "output_type": "stream",
     "text": [
      "\n",
      "Loss:  1.9087489\n",
      "Epoch - 37\n"
     ]
    },
    {
     "name": "stderr",
     "output_type": "stream",
     "text": [
      "\n",
      "100%|██████████| 61/61 [00:49<00:00,  1.32it/s]"
     ]
    },
    {
     "name": "stdout",
     "output_type": "stream",
     "text": [
      "\n",
      "Loss:  1.8943924\n",
      "Epoch - 38\n"
     ]
    },
    {
     "name": "stderr",
     "output_type": "stream",
     "text": [
      "\n",
      "100%|██████████| 61/61 [00:50<00:00,  1.15it/s]"
     ]
    },
    {
     "name": "stdout",
     "output_type": "stream",
     "text": [
      "\n",
      "Loss:  1.8753732\n",
      "Epoch - 39\n"
     ]
    },
    {
     "name": "stderr",
     "output_type": "stream",
     "text": [
      "\n",
      "100%|██████████| 61/61 [00:49<00:00,  1.30it/s]"
     ]
    },
    {
     "name": "stdout",
     "output_type": "stream",
     "text": [
      "\n",
      "Loss:  1.8632668\n",
      "Epoch - 40\n"
     ]
    },
    {
     "name": "stderr",
     "output_type": "stream",
     "text": [
      "\n",
      "100%|██████████| 61/61 [00:52<00:00,  1.12it/s]"
     ]
    },
    {
     "name": "stdout",
     "output_type": "stream",
     "text": [
      "\n",
      "Loss:  1.8528386\n",
      "Epoch - 41\n"
     ]
    },
    {
     "name": "stderr",
     "output_type": "stream",
     "text": [
      "\n",
      "100%|██████████| 61/61 [00:49<00:00,  1.09it/s]"
     ]
    },
    {
     "name": "stdout",
     "output_type": "stream",
     "text": [
      "\n",
      "Loss:  1.8416045\n",
      "Epoch - 42\n"
     ]
    },
    {
     "name": "stderr",
     "output_type": "stream",
     "text": [
      "\n",
      "100%|██████████| 61/61 [00:49<00:00,  1.27it/s]"
     ]
    },
    {
     "name": "stdout",
     "output_type": "stream",
     "text": [
      "\n",
      "Loss:  1.8217458\n",
      "Epoch - 43\n"
     ]
    },
    {
     "name": "stderr",
     "output_type": "stream",
     "text": [
      "\n",
      "100%|██████████| 61/61 [00:48<00:00,  1.21it/s]"
     ]
    },
    {
     "name": "stdout",
     "output_type": "stream",
     "text": [
      "\n",
      "Loss:  1.8063482\n",
      "Epoch - 44\n"
     ]
    },
    {
     "name": "stderr",
     "output_type": "stream",
     "text": [
      "\n",
      "100%|██████████| 61/61 [00:51<00:00,  1.28it/s]"
     ]
    },
    {
     "name": "stdout",
     "output_type": "stream",
     "text": [
      "\n",
      "Loss:  1.7927234\n",
      "Epoch - 45\n"
     ]
    },
    {
     "name": "stderr",
     "output_type": "stream",
     "text": [
      "\n",
      "100%|██████████| 61/61 [00:47<00:00,  1.25it/s]"
     ]
    },
    {
     "name": "stdout",
     "output_type": "stream",
     "text": [
      "\n",
      "Loss:  1.7784011\n",
      "Epoch - 46\n"
     ]
    },
    {
     "name": "stderr",
     "output_type": "stream",
     "text": [
      "\n",
      "100%|██████████| 61/61 [00:47<00:00,  1.27it/s]"
     ]
    },
    {
     "name": "stdout",
     "output_type": "stream",
     "text": [
      "\n",
      "Loss:  1.7682222\n",
      "Epoch - 47\n"
     ]
    },
    {
     "name": "stderr",
     "output_type": "stream",
     "text": [
      "\n",
      "100%|██████████| 61/61 [00:47<00:00,  1.28it/s]"
     ]
    },
    {
     "name": "stdout",
     "output_type": "stream",
     "text": [
      "\n",
      "Loss:  1.7560707\n",
      "Epoch - 48\n"
     ]
    },
    {
     "name": "stderr",
     "output_type": "stream",
     "text": [
      "\n",
      "100%|██████████| 61/61 [00:48<00:00,  1.29it/s]"
     ]
    },
    {
     "name": "stdout",
     "output_type": "stream",
     "text": [
      "\n",
      "Loss:  1.7502875\n",
      "Epoch - 49\n"
     ]
    },
    {
     "name": "stderr",
     "output_type": "stream",
     "text": [
      "\n",
      "100%|██████████| 61/61 [00:47<00:00,  1.21it/s]"
     ]
    },
    {
     "name": "stdout",
     "output_type": "stream",
     "text": [
      "\n",
      "Loss:  1.7345885\n",
      "Epoch - 50\n"
     ]
    },
    {
     "name": "stderr",
     "output_type": "stream",
     "text": [
      "\n",
      "100%|██████████| 61/61 [00:48<00:00,  1.25it/s]"
     ]
    },
    {
     "name": "stdout",
     "output_type": "stream",
     "text": [
      "\n",
      "Loss:  1.7343229\n"
     ]
    },
    {
     "name": "stderr",
     "output_type": "stream",
     "text": [
      "\n"
     ]
    }
   ],
   "source": [
    "num_epochs = 50\n",
    "bat_size = 200\n",
    "curr = 0\n",
    "losses = []\n",
    "sess = tf.Session()\n",
    "sess.run(tf.global_variables_initializer())\n",
    "for i in range(num_epochs):\n",
    "    print(\"Epoch -\", i+1, flush=True)\n",
    "    curr = 0\n",
    "    for _ in tqdm(range(int(len(sequences)/bat_size)-1)):\n",
    "        inp = sequences[curr:curr+bat_size]\n",
    "        tar = out_sequences[curr:curr+bat_size]\n",
    "        feed_dict = {inputs:inp, targets:tar}\n",
    "        l, s = sess.run([loss, train_step], feed_dict=feed_dict)\n",
    "        losses.append(l)\n",
    "        curr = curr + bat_size\n",
    "    print('\\nLoss: ', l, flush=True)"
   ]
  },
  {
   "cell_type": "code",
   "execution_count": 12,
   "metadata": {},
   "outputs": [
    {
     "data": {
      "image/png": "[encoded data removed]",
      "text/plain": [
       "<Figure size 432x288 with 1 Axes>"
      ]
     },
     "metadata": {
      "needs_background": "light"
     },
     "output_type": "display_data"
    }
   ],
   "source": [
    "plt.plot(losses)\n",
    "plt.xlabel(\"Iteation\")\n",
    "plt.ylabel(\"Loss\")\n",
    "plt.show()"
   ]
  },
  {
   "cell_type": "code",
   "execution_count": 15,
   "metadata": {
    "colab": {
     "autoexec": {
      "startup": false,
      "wait_interval": 0
     },
     "base_uri": "https://localhost:8080/",
     "height": 737
    },
    "colab_type": "code",
    "executionInfo": {
     "elapsed": 106949,
     "status": "ok",
     "timestamp": 1527605775239,
     "user": {
      "displayName": "Kushal Chauhan",
      "photoUrl": "//lh4.googleusercontent.com/-EhzMPZb6gTQ/AAAAAAAAAAI/AAAAAAAAHDk/-DzBUyWbk-E/s50-c-k-no/photo.jpg",
      "userId": "100716662372658252072"
     },
     "user_tz": -330
    },
    "id": "3R8pLcvbq-bf",
    "outputId": "293a8b47-3e8c-4536-833a-5f4ef2296e80"
   },
   "outputs": [
    {
     "name": "stderr",
     "output_type": "stream",
     "text": [
      "100%|██████████| 1000/1000 [05:12<00:00,  3.33it/s]"
     ]
    },
    {
     "name": "stdout",
     "output_type": "stream",
     "text": [
      "#include <linux/compiler.h>\n",
      "#include <linux/gcd.h>\n",
      "#include <linux/export.h>\n",
      "#include <linux/lcm.h>\n",
      "#include <linux/ingo.b.h>\n",
      "#include <linux/mupel.h>\n",
      "#include <linux/sypv.rem\"\n",
      "#include <<inux/ecq_raitheofne_ules.ha\n",
      "#include <linux/ini_n;\n",
      "\n",
      "\tist_constybitcf_endens_start() confit a dried, dava, vor- intoms;\n",
      "ino paiound_queue = asp_abdo_sy_fale_atrecute_socp(rdev->kbin_bist);\n",
      "Crv1->for(eadmat |  axpx/>cengr0);\n",
      "\n",
      "\tab_fmag(0, f2); });\n",
      "\n",
      "\tif (page->px_lusm_w + 1\n",
      "\t\t(stculs);\n",
      "\tecmap = olk->d;\n",
      "\n",
      "\t\tcom > gct_leadc->unxtalled;\n",
      "\tif (dev->pal <<inapezer)) {\n",
      "\t\tif (vmap))\t\t\t\tinfo * SH;\n",
      "\t\t\t/* Dberak no state cole ant roag bhenfite home nutases me owo wa kernet /iicte to free it fimnranilby(bie mostryBsy\n",
      " * Tvca 132)\n",
      " */\n",
      "nowateh pages tat ustrre out'tes_trak *nem. If the ma-aliok:\n",
      " thothe cglace soppertine\n",
      " * @llac_lis:\n",
      " */\n",
      "#ifcufff\"(UDIFVNU 1) v->wping)\n",
      "{\n",
      "\tint err;\n",
      "\n",
      "\tret\t   acpi_ec_blecke(s, luntif);\n",
      "\n",
      "\tord = 0;\n",
      "\tsbi_ctr(ec_vcl, incv->inf);\n",
      "\t}\n",
      "\t};\n",
      "\ts->inun_sect r e = dc_ios_ge(vic);\n",
      "\tint rbi_quely_mddev *pacl = &dev_butdb(Ina);\n",
      "}\n",
      "\n",
      "\n",
      "#define 20;\n",
      "}\n",
      "#ondeut raturn_muppr:(\"Fpul/thene 0%4\\%\");\n",
      "bd, isy(ng,pen)\n"
     ]
    },
    {
     "name": "stderr",
     "output_type": "stream",
     "text": [
      "\n"
     ]
    }
   ],
   "source": [
    "seed = text[:100]\n",
    "code = ''\n",
    "enc = [enc_text[:100]]*200\n",
    "\n",
    "code_len = 1000\n",
    "\n",
    "for _ in tqdm(range(code_len)):\n",
    "    p = sess.run([prob], feed_dict={inputs:enc})\n",
    "    \n",
    "    # Sampling from the output distribution. Let temperature = 1\n",
    "    idx = np.random.choice(list(range(len(vocab))), p = p[0][-1])\n",
    "    \n",
    "    code += int_to_vocab[idx]\n",
    "    enc[0] = enc[0][1:] + [idx]\n",
    "    enc = [enc[0]]*200\n",
    "\n",
    "print(seed+code)"
   ]
  }
 ],
 "metadata": {
  "accelerator": "GPU",
  "colab": {
   "default_view": {},
   "name": "C-code-generator.ipynb",
   "provenance": [],
   "version": "0.3.2",
   "views": {}
  },
  "kernelspec": {
   "display_name": "Python 3",
   "language": "python",
   "name": "python3"
  },
  "language_info": {
   "codemirror_mode": {
    "name": "ipython",
    "version": 3
   },
   "file_extension": ".py",
   "mimetype": "text/x-python",
   "name": "python",
   "nbconvert_exporter": "python",
   "pygments_lexer": "ipython3",
   "version": "3.7.1"
  }
 },
 "nbformat": 4,
 "nbformat_minor": 1
}
